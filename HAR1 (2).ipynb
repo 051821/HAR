{
  "cells": [
    {
      "cell_type": "code",
      "execution_count": null,
      "metadata": {
        "id": "UGuQnXy1U2vW"
      },
      "outputs": [],
      "source": [
        "import pandas as pd\n",
        "import numpy as np\n",
        "from sklearn.feature_selection import RFE\n",
        "from sklearn.ensemble import RandomForestClassifier\n",
        "from sklearn.metrics import accuracy_score\n",
        "train_data = pd.read_csv(\"/content/train.csv\")\n",
        "test_data = pd.read_csv(\"/content/test.csv\")\n",
        "x_train = train_data.iloc[:,:-1]\n",
        "y_train = train_data['Activity']\n",
        "x_test = test_data.iloc[:,:-1]\n",
        "y_test = test_data['Activity']"
      ]
    },
    {
      "cell_type": "code",
      "execution_count": null,
      "metadata": {
        "colab": {
          "base_uri": "https://localhost:8080/"
        },
        "id": "5HRP-4ZRVB_V",
        "outputId": "58510246-2fe2-4271-c0af-d2071ab1cbec"
      },
      "outputs": [
        {
          "output_type": "stream",
          "name": "stdout",
          "text": [
            "tBodyAcc-mean()-X       0\n",
            "tBodyAcc-mean()-Y       0\n",
            "tBodyAcc-mean()-Z       0\n",
            "tBodyAcc-std()-X        0\n",
            "tBodyAcc-std()-Y        0\n",
            "                       ..\n",
            "angle(X,gravityMean)    0\n",
            "angle(Y,gravityMean)    0\n",
            "angle(Z,gravityMean)    0\n",
            "subject                 0\n",
            "Activity                0\n",
            "Length: 563, dtype: int64 ['STANDING' 'SITTING' 'LAYING' 'WALKING' 'WALKING_DOWNSTAIRS'\n",
            " 'WALKING_UPSTAIRS']\n"
          ]
        }
      ],
      "source": [
        "missing_val = train_data.isnull().sum()\n",
        "unique_lables = y_train.unique()\n",
        "\n",
        "print(missing_val,unique_lables)"
      ]
    },
    {
      "cell_type": "code",
      "execution_count": null,
      "metadata": {
        "id": "i8IDCbohVEvo"
      },
      "outputs": [],
      "source": [
        "x_train = x_train.dropna(axis=1)\n",
        "x_test = x_test.dropna(axis=1)"
      ]
    },
    {
      "cell_type": "code",
      "execution_count": null,
      "metadata": {
        "colab": {
          "base_uri": "https://localhost:8080/"
        },
        "id": "hIB62X0fVKBH",
        "outputId": "3ed26be6-7c2c-4f3e-f0ca-bd35b6b2ff4f"
      },
      "outputs": [
        {
          "name": "stdout",
          "output_type": "stream",
          "text": [
            "Accuracy: 0.9267051238547676\n",
            "Classification Report:\n",
            "                    precision    recall  f1-score   support\n",
            "\n",
            "            LAYING       1.00      1.00      1.00       537\n",
            "           SITTING       0.91      0.90      0.91       491\n",
            "          STANDING       0.91      0.92      0.91       532\n",
            "           WALKING       0.89      0.96      0.93       496\n",
            "WALKING_DOWNSTAIRS       0.97      0.85      0.91       420\n",
            "  WALKING_UPSTAIRS       0.88      0.91      0.90       471\n",
            "\n",
            "          accuracy                           0.93      2947\n",
            "         macro avg       0.93      0.92      0.92      2947\n",
            "      weighted avg       0.93      0.93      0.93      2947\n",
            "\n",
            "Confusion Matrix:\n",
            "[[537   0   0   0   0   0]\n",
            " [  0 440  51   0   0   0]\n",
            " [  0  41 491   0   0   0]\n",
            " [  0   0   0 476   5  15]\n",
            " [  0   0   0  21 358  41]\n",
            " [  0   0   0  36   6 429]]\n"
          ]
        }
      ],
      "source": [
        "#RANDOM FOREST CLASSIFIER\n",
        "from sklearn.ensemble import RandomForestClassifier\n",
        "from sklearn.metrics import accuracy_score, classification_report, confusion_matrix\n",
        "\n",
        "\n",
        "rf_classifier = RandomForestClassifier(n_estimators=100, random_state=42)\n",
        "\n",
        "rf_classifier.fit(x_train, y_train)\n",
        "\n",
        "y_pred = rf_classifier.predict(x_test)\n",
        "\n",
        "accuracy = accuracy_score(y_test, y_pred)\n",
        "print(\"Accuracy:\", accuracy)\n",
        "\n",
        "class_report = classification_report(y_test, y_pred)\n",
        "print(\"Classification Report:\")\n",
        "print(class_report)\n",
        "\n",
        "conmat = confusion_matrix(y_test, y_pred)\n",
        "\n",
        "print(\"Confusion Matrix:\")\n",
        "print(conmat)\n"
      ]
    },
    {
      "cell_type": "code",
      "source": [],
      "metadata": {
        "id": "JmcpTk3BOyv9"
      },
      "execution_count": null,
      "outputs": []
    },
    {
      "cell_type": "code",
      "execution_count": null,
      "metadata": {
        "colab": {
          "base_uri": "https://localhost:8080/"
        },
        "id": "fZpGeoatVRKm",
        "outputId": "8b9cbdd7-c01f-45d0-fc21-f4ad598f608e"
      },
      "outputs": [
        {
          "name": "stdout",
          "output_type": "stream",
          "text": [
            "Accuracy: 0.9307770614183916\n",
            "Confusion Matrix:\n",
            "[[537   0   0   0   0   0]\n",
            " [  0 421  68   0   0   2]\n",
            " [  0  45 487   0   0   0]\n",
            " [  0   0   0 494   2   0]\n",
            " [  0   0   0  33 358  29]\n",
            " [  0   0   0  23   2 446]]\n",
            "Classification Report:\n",
            "                    precision    recall  f1-score   support\n",
            "\n",
            "            LAYING       1.00      1.00      1.00       537\n",
            "           SITTING       0.90      0.86      0.88       491\n",
            "          STANDING       0.88      0.92      0.90       532\n",
            "           WALKING       0.90      1.00      0.94       496\n",
            "WALKING_DOWNSTAIRS       0.99      0.85      0.92       420\n",
            "  WALKING_UPSTAIRS       0.94      0.95      0.94       471\n",
            "\n",
            "          accuracy                           0.93      2947\n",
            "         macro avg       0.93      0.93      0.93      2947\n",
            "      weighted avg       0.93      0.93      0.93      2947\n",
            "\n"
          ]
        }
      ],
      "source": [
        "#SUPPORT VECTOR\n",
        "from sklearn.svm import SVC\n",
        "from sklearn.metrics import accuracy_score, confusion_matrix, classification_report\n",
        "from sklearn.impute import SimpleImputer\n",
        "\n",
        "# Initialize an SVM classifier\n",
        "model = SVC()\n",
        "\n",
        "\n",
        "model.fit(x_train, y_train)\n",
        "\n",
        "# Predict on test set\n",
        "y_pred = model.predict(x_test)\n",
        "\n",
        "# Calculate accuracy\n",
        "accuracy = accuracy_score(y_test, y_pred)\n",
        "\n",
        "# Calculate confusion matrix and classification report\n",
        "conmat = confusion_matrix(y_test, y_pred)\n",
        "classification_report = classification_report(y_test, y_pred)\n",
        "\n",
        "# Print results\n",
        "print(\"Accuracy:\", accuracy)\n",
        "print(\"Confusion Matrix:\")\n",
        "print(conmat)\n",
        "print(\"Classification Report:\")\n",
        "print(classification_report)"
      ]
    },
    {
      "cell_type": "code",
      "execution_count": null,
      "metadata": {
        "colab": {
          "base_uri": "https://localhost:8080/"
        },
        "id": "Ju1f39BmwIwR",
        "outputId": "c785ca62-4f9a-4e95-b2b8-93981aa64244"
      },
      "outputs": [
        {
          "output_type": "stream",
          "name": "stdout",
          "text": [
            "Accuracy: 0.9599592806243638\n",
            "Classification Report:\n",
            "                    precision    recall  f1-score   support\n",
            "\n",
            "            LAYING       1.00      1.00      1.00       537\n",
            "           SITTING       0.98      0.87      0.92       491\n",
            "          STANDING       0.89      0.98      0.93       532\n",
            "           WALKING       0.94      0.99      0.97       496\n",
            "WALKING_DOWNSTAIRS       0.99      0.97      0.98       420\n",
            "  WALKING_UPSTAIRS       0.97      0.94      0.96       471\n",
            "\n",
            "          accuracy                           0.96      2947\n",
            "         macro avg       0.96      0.96      0.96      2947\n",
            "      weighted avg       0.96      0.96      0.96      2947\n",
            "\n",
            "Confusion Matrix:\n",
            "[[537   0   0   0   0   0]\n",
            " [  0 425  63   0   0   3]\n",
            " [  0  10 522   0   0   0]\n",
            " [  0   0   0 493   3   0]\n",
            " [  0   0   0   3 407  10]\n",
            " [  0   0   0  26   0 445]]\n"
          ]
        },
        {
          "output_type": "stream",
          "name": "stderr",
          "text": [
            "/usr/local/lib/python3.10/dist-packages/sklearn/linear_model/_logistic.py:458: ConvergenceWarning: lbfgs failed to converge (status=1):\n",
            "STOP: TOTAL NO. of ITERATIONS REACHED LIMIT.\n",
            "\n",
            "Increase the number of iterations (max_iter) or scale the data as shown in:\n",
            "    https://scikit-learn.org/stable/modules/preprocessing.html\n",
            "Please also refer to the documentation for alternative solver options:\n",
            "    https://scikit-learn.org/stable/modules/linear_model.html#logistic-regression\n",
            "  n_iter_i = _check_optimize_result(\n"
          ]
        }
      ],
      "source": [
        "from sklearn.linear_model import LogisticRegression\n",
        "from sklearn.metrics import accuracy_score, classification_report, confusion_matrix\n",
        "\n",
        "\n",
        "logistic_regression_model = LogisticRegression(max_iter=1000)\n",
        "\n",
        "\n",
        "logistic_regression_model.fit(x_train, y_train)\n",
        "\n",
        "\n",
        "y_pred = logistic_regression_model.predict(x_test)\n",
        "\n",
        "\n",
        "accuracy = accuracy_score(y_test, y_pred)\n",
        "print(\"Accuracy:\", accuracy)\n",
        "class_report = classification_report(y_test, y_pred)\n",
        "print(\"Classification Report:\")\n",
        "print(class_report)\n",
        "\n",
        "# Generate confusion matrix\n",
        "conmat = confusion_matrix(y_test, y_pred)\n",
        "\n",
        "# Display confusion matrix a\n",
        "print(\"Confusion Matrix:\")\n",
        "print(conmat)\n",
        "\n"
      ]
    },
    {
      "cell_type": "code",
      "execution_count": null,
      "metadata": {
        "colab": {
          "base_uri": "https://localhost:8080/"
        },
        "id": "yGPyt_UNVVX1",
        "outputId": "edb9e837-ce27-4217-ae73-9ebd3c200640"
      },
      "outputs": [
        {
          "name": "stdout",
          "output_type": "stream",
          "text": [
            "Naive Bayes Accuracy: 0.7702748557855447\n",
            "Naive Bayes Classification Report:\n",
            "                    precision    recall  f1-score   support\n",
            "\n",
            "            LAYING       0.96      0.61      0.75       537\n",
            "           SITTING       0.58      0.73      0.65       491\n",
            "          STANDING       0.79      0.87      0.83       532\n",
            "           WALKING       0.82      0.84      0.83       496\n",
            "WALKING_DOWNSTAIRS       0.83      0.61      0.70       420\n",
            "  WALKING_UPSTAIRS       0.76      0.96      0.84       471\n",
            "\n",
            "          accuracy                           0.77      2947\n",
            "         macro avg       0.79      0.77      0.77      2947\n",
            "      weighted avg       0.79      0.77      0.77      2947\n",
            "\n"
          ]
        }
      ],
      "source": [
        "#NAIVE BAYES CLASSIFIER\n",
        "from sklearn.naive_bayes import GaussianNB\n",
        "from sklearn.metrics import accuracy_score, confusion_matrix, classification_report\n",
        "nb_classifier = GaussianNB()\n",
        "\n",
        "nb_classifier.fit(x_train, y_train)\n",
        "\n",
        "\n",
        "y_pred = nb_classifier.predict(x_test)\n",
        "\n",
        "accuracy_nb = accuracy_score(y_test, y_pred)\n",
        "print(\"Naive Bayes Accuracy:\", accuracy_nb)\n",
        "\n",
        "class_report_nb = classification_report(y_test, y_pred)\n",
        "print(\"Naive Bayes Classification Report:\")\n",
        "print(class_report_nb)\n",
        "\n"
      ]
    },
    {
      "cell_type": "code",
      "execution_count": null,
      "metadata": {
        "colab": {
          "background_save": true,
          "base_uri": "https://localhost:8080/"
        },
        "id": "2htWVJcKzRFH",
        "outputId": "424739b8-fbce-4ad7-e710-6bff3b0d0e8f"
      },
      "outputs": [
        {
          "name": "stdout",
          "output_type": "stream",
          "text": [
            "Fitting 5 folds for each of 64 candidates, totalling 320 fits\n"
          ]
        },
        {
          "name": "stderr",
          "output_type": "stream",
          "text": [
            "/usr/local/lib/python3.10/dist-packages/sklearn/model_selection/_search.py:305: UserWarning: The total space of parameters 64 is smaller than n_iter=100. Running 64 iterations. For exhaustive searches, use GridSearchCV.\n",
            "  warnings.warn(\n"
          ]
        },
        {
          "name": "stdout",
          "output_type": "stream",
          "text": [
            "Best Parameters for SVM: {'kernel': 'linear', 'gamma': 0.1, 'C': 1}\n",
            "Best Score for SVM: 0.9360805042615279\n"
          ]
        }
      ],
      "source": [
        "#HYPER PARAMETER TUNNING IN SVC\n",
        "from sklearn.svm import SVC\n",
        "from sklearn.model_selection import RandomizedSearchCV\n",
        "\n",
        "# Define hyperparameter grid for SVM\n",
        "param_grid_svm = {\n",
        "    'C': [0.1, 1, 10, 100],\n",
        "    'gamma': [0.1, 0.01, 0.001, 0.0001],\n",
        "    'kernel': ['rbf', 'linear', 'poly', 'sigmoid']\n",
        "}\n",
        "\n",
        "# Initialize SVM classifier\n",
        "svm_classifier = SVC()\n",
        "\n",
        "random_search_svm = RandomizedSearchCV(estimator=svm_classifier, param_distributions=param_grid_svm, n_iter=100,\n",
        "                                       cv=5, verbose=2, random_state=42, n_jobs=-1)\n",
        "\n",
        "# Fit the random search to the data\n",
        "random_search_svm.fit(x_train, y_train)\n",
        "\n",
        "# Print the best parameters found\n",
        "print(\"Best Parameters for SVM:\", random_search_svm.best_params_)\n",
        "\n",
        "# Print the best score found\n",
        "print(\"Best Score for SVM:\", random_search_svm.best_score_)\n"
      ]
    },
    {
      "cell_type": "code",
      "source": [
        "from sklearn.model_selection import GridSearchCV\n",
        "from sklearn.linear_model import LogisticRegression\n",
        "from sklearn.preprocessing import StandardScaler\n",
        "from sklearn.pipeline import Pipeline\n",
        "\n",
        "# Define the parameter grid to search\n",
        "param_grid = {\n",
        "    'logistic_regression__C': [0.001, 0.01, 0.1, 1, 10, 100],  # Regularization parameter\n",
        "    'logistic_regression__penalty': ['l1', 'l2']  # Penalty norm\n",
        "}\n",
        "\n",
        "pipeline = Pipeline([\n",
        "    ('scaler', StandardScaler()),\n",
        "    ('logistic_regression', LogisticRegression(solver='liblinear', max_iter=1000))  # Solver supports both L1 and L2 regularization\n",
        "])\n",
        "grid_search = GridSearchCV(estimator=pipeline, param_grid=param_grid, cv=5, scoring='accuracy', verbose=1, n_jobs=-1)\n",
        "grid_search.fit(x_train, y_train)\n",
        "\n",
        "# Print the best hyperparameters found\n",
        "print(\"Best Hyperparameters:\", grid_search.best_params_)\n",
        "\n",
        "# Get the best model\n",
        "best_logistic_regression = grid_search.best_estimator_\n",
        "\n",
        "# Make predictions on the testing data using the best model\n",
        "y_pred_best = best_logistic_regression.predict(x_test)\n",
        "\n",
        "# Calculate accuracy using the best model\n",
        "accuracy_best = accuracy_score(y_test, y_pred_best)\n",
        "print(\"Accuracy with Best Model:\", accuracy_best)\n"
      ],
      "metadata": {
        "colab": {
          "base_uri": "https://localhost:8080/"
        },
        "id": "uU1RusLzP_VL",
        "outputId": "fc58a349-1cb2-4f4f-ce60-c2e73e3da5a4"
      },
      "execution_count": null,
      "outputs": [
        {
          "output_type": "stream",
          "name": "stdout",
          "text": [
            "Fitting 5 folds for each of 12 candidates, totalling 60 fits\n",
            "Best Hyperparameters: {'logistic_regression__C': 1, 'logistic_regression__penalty': 'l1'}\n",
            "Accuracy with Best Model: 0.9582626399728538\n"
          ]
        }
      ]
    }
  ],
  "metadata": {
    "accelerator": "GPU",
    "colab": {
      "gpuType": "T4",
      "provenance": []
    },
    "kernelspec": {
      "display_name": "Python 3",
      "name": "python3"
    },
    "language_info": {
      "name": "python"
    }
  },
  "nbformat": 4,
  "nbformat_minor": 0
}